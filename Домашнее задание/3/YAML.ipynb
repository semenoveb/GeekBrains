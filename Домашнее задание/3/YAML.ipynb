{
 "cells": [
  {
   "cell_type": "code",
   "execution_count": 1,
   "metadata": {},
   "outputs": [],
   "source": [
    "import yaml"
   ]
  },
  {
   "cell_type": "code",
   "execution_count": 2,
   "metadata": {},
   "outputs": [],
   "source": [
    "def main():\n",
    "\twith open('file.yaml') as fh:\n",
    "\t\tread_yaml = yaml.load(fh)\n",
    "\tprint(read_yaml) \n"
   ]
  },
  {
   "cell_type": "code",
   "execution_count": 3,
   "metadata": {},
   "outputs": [
    {
     "name": "stdout",
     "output_type": "stream",
     "text": [
      "{'items': ['computer', 'printer', 'keyboard', 'mouse'], 'items_ptice': {'computer': '200€-1000€', 'keyboard': '5€-50€', 'mouse': '4€-7€', 'printer': '100€-300€'}, 'items_quantity': 4}\n"
     ]
    }
   ],
   "source": [
    "main()"
   ]
  },
  {
   "cell_type": "code",
   "execution_count": 4,
   "metadata": {},
   "outputs": [],
   "source": [
    "from pprint import pprint"
   ]
  },
  {
   "cell_type": "code",
   "execution_count": 5,
   "metadata": {},
   "outputs": [],
   "source": [
    "def main():\n",
    "\twith open('file.yaml') as fh:\n",
    "\t\tread_yaml = yaml.load(fh)\n",
    "\tpprint(read_yaml, intend = 4) "
   ]
  },
  {
   "cell_type": "code",
   "execution_count": 6,
   "metadata": {},
   "outputs": [
    {
     "ename": "TypeError",
     "evalue": "pprint() got an unexpected keyword argument 'intend'",
     "output_type": "error",
     "traceback": [
      "\u001b[0;31m---------------------------------------------------------------------------\u001b[0m",
      "\u001b[0;31mTypeError\u001b[0m                                 Traceback (most recent call last)",
      "\u001b[0;32m<ipython-input-6-263240bbee7e>\u001b[0m in \u001b[0;36m<module>\u001b[0;34m\u001b[0m\n\u001b[0;32m----> 1\u001b[0;31m \u001b[0mmain\u001b[0m\u001b[0;34m(\u001b[0m\u001b[0;34m)\u001b[0m\u001b[0;34m\u001b[0m\u001b[0m\n\u001b[0m",
      "\u001b[0;32m<ipython-input-5-5c2f753e925a>\u001b[0m in \u001b[0;36mmain\u001b[0;34m()\u001b[0m\n\u001b[1;32m      2\u001b[0m         \u001b[0;32mwith\u001b[0m \u001b[0mopen\u001b[0m\u001b[0;34m(\u001b[0m\u001b[0;34m'file.yaml'\u001b[0m\u001b[0;34m)\u001b[0m \u001b[0;32mas\u001b[0m \u001b[0mfh\u001b[0m\u001b[0;34m:\u001b[0m\u001b[0;34m\u001b[0m\u001b[0m\n\u001b[1;32m      3\u001b[0m                 \u001b[0mread_yaml\u001b[0m \u001b[0;34m=\u001b[0m \u001b[0myaml\u001b[0m\u001b[0;34m.\u001b[0m\u001b[0mload\u001b[0m\u001b[0;34m(\u001b[0m\u001b[0mfh\u001b[0m\u001b[0;34m)\u001b[0m\u001b[0;34m\u001b[0m\u001b[0m\n\u001b[0;32m----> 4\u001b[0;31m         \u001b[0mpprint\u001b[0m\u001b[0;34m(\u001b[0m\u001b[0mread_yaml\u001b[0m\u001b[0;34m,\u001b[0m \u001b[0mintend\u001b[0m \u001b[0;34m=\u001b[0m \u001b[0;36m4\u001b[0m\u001b[0;34m)\u001b[0m\u001b[0;34m\u001b[0m\u001b[0m\n\u001b[0m",
      "\u001b[0;31mTypeError\u001b[0m: pprint() got an unexpected keyword argument 'intend'"
     ]
    }
   ],
   "source": [
    "main()"
   ]
  },
  {
   "cell_type": "code",
   "execution_count": 7,
   "metadata": {},
   "outputs": [],
   "source": [
    "def main():\n",
    "\twith open('file.yaml') as fh:\n",
    "\t\tread_yaml = yaml.load(fh)\n",
    "\tpprint(read_yaml) \n"
   ]
  },
  {
   "cell_type": "code",
   "execution_count": 8,
   "metadata": {},
   "outputs": [
    {
     "name": "stdout",
     "output_type": "stream",
     "text": [
      "{'items': ['computer', 'printer', 'keyboard', 'mouse'],\n",
      " 'items_ptice': {'computer': '200€-1000€',\n",
      "                 'keyboard': '5€-50€',\n",
      "                 'mouse': '4€-7€',\n",
      "                 'printer': '100€-300€'},\n",
      " 'items_quantity': 4}\n"
     ]
    }
   ],
   "source": [
    "main()"
   ]
  },
  {
   "cell_type": "code",
   "execution_count": 9,
   "metadata": {},
   "outputs": [],
   "source": [
    "def read_yaml(filename:str):\n",
    "\twith open(filename) as fh:\n",
    "\t\treaded_file = yaml.load(fh)\n",
    "\tpprint(readed_file)\n",
    "\treturn readed_file"
   ]
  },
  {
   "cell_type": "code",
   "execution_count": 10,
   "metadata": {},
   "outputs": [],
   "source": [
    "def main():\n",
    "\treaded_file = read_yaml('file.yaml')\n",
    "\n",
    "\twith open('file_writed.yaml', 'w') as fh:\n",
    "\t\tyaml.dump(read_yaml, fh, default_flow_style = False, allow_unicode = True)\n",
    "\n",
    "\treaded_file_again = read_yaml('file_writed.yaml')\n",
    "\tif readed_file is readed_file_again:\n",
    "\t\tprint('Файлы совпадают.')\n",
    "\telse:\n",
    "\t\tprint('Файлы не совпадают!!!')"
   ]
  },
  {
   "cell_type": "code",
   "execution_count": 11,
   "metadata": {},
   "outputs": [
    {
     "name": "stdout",
     "output_type": "stream",
     "text": [
      "{'items': ['computer', 'printer', 'keyboard', 'mouse'],\n",
      " 'items_ptice': {'computer': '200€-1000€',\n",
      "                 'keyboard': '5€-50€',\n",
      "                 'mouse': '4€-7€',\n",
      "                 'printer': '100€-300€'},\n",
      " 'items_quantity': 4}\n",
      "<function read_yaml at 0xb6504a94>\n",
      "Файлы не совпадают!!!\n"
     ]
    }
   ],
   "source": [
    "main()"
   ]
  },
  {
   "cell_type": "code",
   "execution_count": 12,
   "metadata": {},
   "outputs": [],
   "source": [
    "def main():\n",
    "\treaded_file = read_yaml('file.yaml')\n",
    "\n",
    "\twith open('file_writed.yaml', 'w') as fh:\n",
    "\t\tyaml.dump(readed_file, fh, default_flow_style = False, allow_unicode = True)\n",
    "\n",
    "\treaded_file_again = read_yaml('file_writed.yaml')\n",
    "\tif readed_file is readed_file_again:\n",
    "\t\tprint('Файлы совпадают.')\n",
    "\telse:\n",
    "\t\tprint('Файлы не совпадают!!!')"
   ]
  },
  {
   "cell_type": "code",
   "execution_count": 13,
   "metadata": {},
   "outputs": [
    {
     "name": "stdout",
     "output_type": "stream",
     "text": [
      "{'items': ['computer', 'printer', 'keyboard', 'mouse'],\n",
      " 'items_ptice': {'computer': '200€-1000€',\n",
      "                 'keyboard': '5€-50€',\n",
      "                 'mouse': '4€-7€',\n",
      "                 'printer': '100€-300€'},\n",
      " 'items_quantity': 4}\n",
      "{'items': ['computer', 'printer', 'keyboard', 'mouse'],\n",
      " 'items_ptice': {'computer': '200€-1000€',\n",
      "                 'keyboard': '5€-50€',\n",
      "                 'mouse': '4€-7€',\n",
      "                 'printer': '100€-300€'},\n",
      " 'items_quantity': 4}\n",
      "Файлы не совпадают!!!\n"
     ]
    }
   ],
   "source": [
    "main()"
   ]
  },
  {
   "cell_type": "code",
   "execution_count": 14,
   "metadata": {},
   "outputs": [],
   "source": [
    "import filecmp"
   ]
  },
  {
   "cell_type": "code",
   "execution_count": 15,
   "metadata": {},
   "outputs": [],
   "source": [
    "def main():\n",
    "\treaded_file = read_yaml('file.yaml')\n",
    "\n",
    "\twith open('file_writed.yaml', 'w') as fh:\n",
    "\t\tyaml.dump(readed_file, fh, default_flow_style = False, allow_unicode = True)\n",
    "\n",
    "\treaded_file_again = read_yaml('file_writed.yaml')\n",
    "\t\n",
    "\tif filecmp.cmp(readed_file, readed_file_again):\n",
    "\t\tprint('Файлы совпадают.')\n",
    "\telse:\n",
    "\t\tprint('Файлы не совпадают!!!')"
   ]
  },
  {
   "cell_type": "code",
   "execution_count": 16,
   "metadata": {},
   "outputs": [
    {
     "name": "stdout",
     "output_type": "stream",
     "text": [
      "{'items': ['computer', 'printer', 'keyboard', 'mouse'],\n",
      " 'items_ptice': {'computer': '200€-1000€',\n",
      "                 'keyboard': '5€-50€',\n",
      "                 'mouse': '4€-7€',\n",
      "                 'printer': '100€-300€'},\n",
      " 'items_quantity': 4}\n",
      "{'items': ['computer', 'printer', 'keyboard', 'mouse'],\n",
      " 'items_ptice': {'computer': '200€-1000€',\n",
      "                 'keyboard': '5€-50€',\n",
      "                 'mouse': '4€-7€',\n",
      "                 'printer': '100€-300€'},\n",
      " 'items_quantity': 4}\n"
     ]
    },
    {
     "ename": "TypeError",
     "evalue": "stat: path should be string, bytes, os.PathLike or integer, not dict",
     "output_type": "error",
     "traceback": [
      "\u001b[0;31m---------------------------------------------------------------------------\u001b[0m",
      "\u001b[0;31mTypeError\u001b[0m                                 Traceback (most recent call last)",
      "\u001b[0;32m<ipython-input-16-263240bbee7e>\u001b[0m in \u001b[0;36m<module>\u001b[0;34m\u001b[0m\n\u001b[0;32m----> 1\u001b[0;31m \u001b[0mmain\u001b[0m\u001b[0;34m(\u001b[0m\u001b[0;34m)\u001b[0m\u001b[0;34m\u001b[0m\u001b[0m\n\u001b[0m",
      "\u001b[0;32m<ipython-input-15-de46f89adf03>\u001b[0m in \u001b[0;36mmain\u001b[0;34m()\u001b[0m\n\u001b[1;32m      7\u001b[0m         \u001b[0mreaded_file_again\u001b[0m \u001b[0;34m=\u001b[0m \u001b[0mread_yaml\u001b[0m\u001b[0;34m(\u001b[0m\u001b[0;34m'file_writed.yaml'\u001b[0m\u001b[0;34m)\u001b[0m\u001b[0;34m\u001b[0m\u001b[0m\n\u001b[1;32m      8\u001b[0m \u001b[0;34m\u001b[0m\u001b[0m\n\u001b[0;32m----> 9\u001b[0;31m         \u001b[0;32mif\u001b[0m \u001b[0mfilecmp\u001b[0m\u001b[0;34m.\u001b[0m\u001b[0mcmp\u001b[0m\u001b[0;34m(\u001b[0m\u001b[0mreaded_file\u001b[0m\u001b[0;34m,\u001b[0m \u001b[0mreaded_file_again\u001b[0m\u001b[0;34m)\u001b[0m\u001b[0;34m:\u001b[0m\u001b[0;34m\u001b[0m\u001b[0m\n\u001b[0m\u001b[1;32m     10\u001b[0m                 \u001b[0mprint\u001b[0m\u001b[0;34m(\u001b[0m\u001b[0;34m'Файлы совпадают.'\u001b[0m\u001b[0;34m)\u001b[0m\u001b[0;34m\u001b[0m\u001b[0m\n\u001b[1;32m     11\u001b[0m         \u001b[0;32melse\u001b[0m\u001b[0;34m:\u001b[0m\u001b[0;34m\u001b[0m\u001b[0m\n",
      "\u001b[0;32m/usr/lib/python3.6/filecmp.py\u001b[0m in \u001b[0;36mcmp\u001b[0;34m(f1, f2, shallow)\u001b[0m\n\u001b[1;32m     49\u001b[0m     \"\"\"\n\u001b[1;32m     50\u001b[0m \u001b[0;34m\u001b[0m\u001b[0m\n\u001b[0;32m---> 51\u001b[0;31m     \u001b[0ms1\u001b[0m \u001b[0;34m=\u001b[0m \u001b[0m_sig\u001b[0m\u001b[0;34m(\u001b[0m\u001b[0mos\u001b[0m\u001b[0;34m.\u001b[0m\u001b[0mstat\u001b[0m\u001b[0;34m(\u001b[0m\u001b[0mf1\u001b[0m\u001b[0;34m)\u001b[0m\u001b[0;34m)\u001b[0m\u001b[0;34m\u001b[0m\u001b[0m\n\u001b[0m\u001b[1;32m     52\u001b[0m     \u001b[0ms2\u001b[0m \u001b[0;34m=\u001b[0m \u001b[0m_sig\u001b[0m\u001b[0;34m(\u001b[0m\u001b[0mos\u001b[0m\u001b[0;34m.\u001b[0m\u001b[0mstat\u001b[0m\u001b[0;34m(\u001b[0m\u001b[0mf2\u001b[0m\u001b[0;34m)\u001b[0m\u001b[0;34m)\u001b[0m\u001b[0;34m\u001b[0m\u001b[0m\n\u001b[1;32m     53\u001b[0m     \u001b[0;32mif\u001b[0m \u001b[0ms1\u001b[0m\u001b[0;34m[\u001b[0m\u001b[0;36m0\u001b[0m\u001b[0;34m]\u001b[0m \u001b[0;34m!=\u001b[0m \u001b[0mstat\u001b[0m\u001b[0;34m.\u001b[0m\u001b[0mS_IFREG\u001b[0m \u001b[0;32mor\u001b[0m \u001b[0ms2\u001b[0m\u001b[0;34m[\u001b[0m\u001b[0;36m0\u001b[0m\u001b[0;34m]\u001b[0m \u001b[0;34m!=\u001b[0m \u001b[0mstat\u001b[0m\u001b[0;34m.\u001b[0m\u001b[0mS_IFREG\u001b[0m\u001b[0;34m:\u001b[0m\u001b[0;34m\u001b[0m\u001b[0m\n",
      "\u001b[0;31mTypeError\u001b[0m: stat: path should be string, bytes, os.PathLike or integer, not dict"
     ]
    }
   ],
   "source": [
    "main()"
   ]
  },
  {
   "cell_type": "code",
   "execution_count": 17,
   "metadata": {},
   "outputs": [],
   "source": [
    "def main():\n",
    "\treaded_file = read_yaml('file.yaml')\n",
    "\n",
    "\twith open('file_writed.yaml', 'w') as fh:\n",
    "\t\tyaml.dump(readed_file, fh, default_flow_style = False, allow_unicode = True)\n",
    "\n",
    "\t# readed_file_again = read_yaml('file_writed.yaml')\n",
    "\t\n",
    "\tif filecmp.cmp('file.yaml', 'file_writed.yaml'):\n",
    "\t\tprint('Файлы совпадают.')\n",
    "\telse:\n",
    "\t\tprint('Файлы не совпадают!!!')"
   ]
  },
  {
   "cell_type": "code",
   "execution_count": 18,
   "metadata": {},
   "outputs": [
    {
     "name": "stdout",
     "output_type": "stream",
     "text": [
      "{'items': ['computer', 'printer', 'keyboard', 'mouse'],\n",
      " 'items_ptice': {'computer': '200€-1000€',\n",
      "                 'keyboard': '5€-50€',\n",
      "                 'mouse': '4€-7€',\n",
      "                 'printer': '100€-300€'},\n",
      " 'items_quantity': 4}\n",
      "Файлы не совпадают!!!\n"
     ]
    }
   ],
   "source": [
    "main()"
   ]
  },
  {
   "cell_type": "code",
   "execution_count": 19,
   "metadata": {},
   "outputs": [],
   "source": [
    "def main():\n",
    "\treaded_file = read_yaml('file.yaml')\n",
    "\n",
    "\twith open('file_writed.yaml', 'w') as fh:\n",
    "\t\tyaml.dump(readed_file, fh, default_flow_style = True, allow_unicode = True)\n",
    "\n",
    "\t# readed_file_again = read_yaml('file_writed.yaml')\n",
    "\t\n",
    "\tif filecmp.cmp('file.yaml', 'file_writed.yaml'):\n",
    "\t\tprint('Файлы совпадают.')\n",
    "\telse:\n",
    "\t\tprint('Файлы не совпадают!!!')"
   ]
  },
  {
   "cell_type": "code",
   "execution_count": 20,
   "metadata": {},
   "outputs": [
    {
     "name": "stdout",
     "output_type": "stream",
     "text": [
      "{'items': ['computer', 'printer', 'keyboard', 'mouse'],\n",
      " 'items_ptice': {'computer': '200€-1000€',\n",
      "                 'keyboard': '5€-50€',\n",
      "                 'mouse': '4€-7€',\n",
      "                 'printer': '100€-300€'},\n",
      " 'items_quantity': 4}\n",
      "Файлы не совпадают!!!\n"
     ]
    }
   ],
   "source": [
    "main()"
   ]
  },
  {
   "cell_type": "code",
   "execution_count": 21,
   "metadata": {},
   "outputs": [],
   "source": [
    "def main():\n",
    "\treaded_file = read_yaml('file.yaml')\n",
    "\n",
    "\twith open('file_writed.yaml', 'w') as fh:\n",
    "\t\tyaml.dump(readed_file, fh, default_flow_style = False, allow_unicode = False)\n",
    "\n",
    "\t# readed_file_again = read_yaml('file_writed.yaml')\n",
    "\t\n",
    "\tif filecmp.cmp('file.yaml', 'file_writed.yaml'):\n",
    "\t\tprint('Файлы совпадают.')\n",
    "\telse:\n",
    "\t\tprint('Файлы не совпадают!!!')"
   ]
  },
  {
   "cell_type": "code",
   "execution_count": 22,
   "metadata": {},
   "outputs": [
    {
     "name": "stdout",
     "output_type": "stream",
     "text": [
      "{'items': ['computer', 'printer', 'keyboard', 'mouse'],\n",
      " 'items_ptice': {'computer': '200€-1000€',\n",
      "                 'keyboard': '5€-50€',\n",
      "                 'mouse': '4€-7€',\n",
      "                 'printer': '100€-300€'},\n",
      " 'items_quantity': 4}\n",
      "Файлы не совпадают!!!\n"
     ]
    }
   ],
   "source": [
    "main()"
   ]
  },
  {
   "cell_type": "code",
   "execution_count": 23,
   "metadata": {},
   "outputs": [],
   "source": [
    "def main():\n",
    "\treaded_file = read_yaml('file.yaml')\n",
    "\n",
    "\twith open('file_writed.yaml', 'w') as fh:\n",
    "\t\tyaml.dump(readed_file, fh, default_flow_style = False, allow_unicode = True)\n",
    "\n",
    "\t# readed_file_again = read_yaml('file_writed.yaml')\n",
    "\t\n",
    "\tif filecmp.cmp('file.yaml', 'file_writed.yaml'):\n",
    "\t\tprint('Файлы совпадают.')\n",
    "\telse:\n",
    "\t\tprint('Файлы не совпадают!!!')"
   ]
  },
  {
   "cell_type": "code",
   "execution_count": 24,
   "metadata": {},
   "outputs": [
    {
     "name": "stdout",
     "output_type": "stream",
     "text": [
      "{'items': ['computer', 'printer', 'keyboard', 'mouse'],\n",
      " 'items_ptice': {'computer': '200€-1000€',\n",
      "                 'keyboard': '5€-50€',\n",
      "                 'mouse': '4€-7€',\n",
      "                 'printer': '100€-300€'},\n",
      " 'items_quantity': 4}\n",
      "Файлы не совпадают!!!\n"
     ]
    }
   ],
   "source": [
    "main()"
   ]
  },
  {
   "cell_type": "code",
   "execution_count": 25,
   "metadata": {},
   "outputs": [],
   "source": [
    "import os"
   ]
  },
  {
   "cell_type": "code",
   "execution_count": 26,
   "metadata": {},
   "outputs": [
    {
     "data": {
      "text/plain": [
       "'/home/spaceman/GeekBrains/Домашнее задание/3'"
      ]
     },
     "execution_count": 26,
     "metadata": {},
     "output_type": "execute_result"
    }
   ],
   "source": [
    "os.getcwd()"
   ]
  },
  {
   "cell_type": "code",
   "execution_count": 27,
   "metadata": {},
   "outputs": [
    {
     "data": {
      "text/plain": [
       "['file.yaml',\n",
       " 'file_writed.yaml',\n",
       " 'YAML.ipynb',\n",
       " 'hw_2_3_yaml.py',\n",
       " 'main.py',\n",
       " '.ipynb_checkpoints']"
      ]
     },
     "execution_count": 27,
     "metadata": {},
     "output_type": "execute_result"
    }
   ],
   "source": [
    "os.listdir()"
   ]
  },
  {
   "cell_type": "code",
   "execution_count": 30,
   "metadata": {},
   "outputs": [
    {
     "data": {
      "text/plain": [
       "False"
      ]
     },
     "execution_count": 30,
     "metadata": {},
     "output_type": "execute_result"
    }
   ],
   "source": [
    "filecmp.cmp('file.yaml', 'file_writed.yaml', shallow = False)"
   ]
  },
  {
   "cell_type": "code",
   "execution_count": 31,
   "metadata": {},
   "outputs": [],
   "source": [
    "def main():\n",
    "\treaded_file = read_yaml('file.yaml')\n",
    "\n",
    "\twith open('file_writed.yaml', 'w') as fh:\n",
    "\t\tyaml.dump(readed_file, fh, default_flow_style = False, allow_unicode = True)\n",
    "\n",
    "\treaded_file_again = read_yaml('file_writed.yaml')"
   ]
  },
  {
   "cell_type": "code",
   "execution_count": 32,
   "metadata": {},
   "outputs": [
    {
     "name": "stdout",
     "output_type": "stream",
     "text": [
      "{'items': ['computer', 'printer', 'keyboard', 'mouse'],\n",
      " 'items_ptice': {'computer': '200€-1000€',\n",
      "                 'keyboard': '5€-50€',\n",
      "                 'mouse': '4€-7€',\n",
      "                 'printer': '100€-300€'},\n",
      " 'items_quantity': 4}\n",
      "{'items': ['computer', 'printer', 'keyboard', 'mouse'],\n",
      " 'items_ptice': {'computer': '200€-1000€',\n",
      "                 'keyboard': '5€-50€',\n",
      "                 'mouse': '4€-7€',\n",
      "                 'printer': '100€-300€'},\n",
      " 'items_quantity': 4}\n"
     ]
    }
   ],
   "source": [
    "main()"
   ]
  },
  {
   "cell_type": "code",
   "execution_count": 33,
   "metadata": {},
   "outputs": [
    {
     "ename": "NameError",
     "evalue": "name 'readed_file' is not defined",
     "output_type": "error",
     "traceback": [
      "\u001b[0;31m---------------------------------------------------------------------------\u001b[0m",
      "\u001b[0;31mNameError\u001b[0m                                 Traceback (most recent call last)",
      "\u001b[0;32m<ipython-input-33-3b71c21a1fe7>\u001b[0m in \u001b[0;36m<module>\u001b[0;34m\u001b[0m\n\u001b[0;32m----> 1\u001b[0;31m \u001b[0mtype\u001b[0m\u001b[0;34m(\u001b[0m\u001b[0mreaded_file\u001b[0m\u001b[0;34m)\u001b[0m\u001b[0;34m\u001b[0m\u001b[0m\n\u001b[0m",
      "\u001b[0;31mNameError\u001b[0m: name 'readed_file' is not defined"
     ]
    }
   ],
   "source": [
    "type(readed_file)"
   ]
  },
  {
   "cell_type": "code",
   "execution_count": 34,
   "metadata": {},
   "outputs": [],
   "source": [
    "def read_yaml(filename:str):\n",
    "\twith open(filename) as fh:\n",
    "\t\treaded_file = yaml.load(fh)\n",
    "\tpprint(readed_file)\n",
    "\tprint('Type: ', type(readed_file))\n",
    "\treturn readed_file\n",
    "\n",
    "\n",
    "def main():\n",
    "\treaded_file = read_yaml('file.yaml')\n",
    "\n",
    "\twith open('file_writed.yaml', 'w') as fh:\n",
    "\t\tyaml.dump(readed_file, fh, default_flow_style = False, allow_unicode = True)\n",
    "\n",
    "\treaded_file_again = read_yaml('file_writed.yaml')\n",
    "\t"
   ]
  },
  {
   "cell_type": "code",
   "execution_count": 35,
   "metadata": {},
   "outputs": [
    {
     "name": "stdout",
     "output_type": "stream",
     "text": [
      "{'items': ['computer', 'printer', 'keyboard', 'mouse'],\n",
      " 'items_ptice': {'computer': '200€-1000€',\n",
      "                 'keyboard': '5€-50€',\n",
      "                 'mouse': '4€-7€',\n",
      "                 'printer': '100€-300€'},\n",
      " 'items_quantity': 4}\n",
      "Type:  <class 'dict'>\n",
      "{'items': ['computer', 'printer', 'keyboard', 'mouse'],\n",
      " 'items_ptice': {'computer': '200€-1000€',\n",
      "                 'keyboard': '5€-50€',\n",
      "                 'mouse': '4€-7€',\n",
      "                 'printer': '100€-300€'},\n",
      " 'items_quantity': 4}\n",
      "Type:  <class 'dict'>\n"
     ]
    }
   ],
   "source": [
    "main()"
   ]
  },
  {
   "cell_type": "code",
   "execution_count": 36,
   "metadata": {},
   "outputs": [],
   "source": [
    "def main():\n",
    "\treaded_file = read_yaml('file.yaml')\n",
    "\n",
    "\twith open('file_writed.yaml', 'w') as fh:\n",
    "\t\tyaml.dump(readed_file, fh, default_flow_style = False, allow_unicode = True)\n",
    "\n",
    "\treaded_file_again = read_yaml('file_writed.yaml')\n",
    "\t\n",
    "\tprint(readed_file == readed_file_again)\n"
   ]
  },
  {
   "cell_type": "code",
   "execution_count": 37,
   "metadata": {},
   "outputs": [
    {
     "name": "stdout",
     "output_type": "stream",
     "text": [
      "{'items': ['computer', 'printer', 'keyboard', 'mouse'],\n",
      " 'items_ptice': {'computer': '200€-1000€',\n",
      "                 'keyboard': '5€-50€',\n",
      "                 'mouse': '4€-7€',\n",
      "                 'printer': '100€-300€'},\n",
      " 'items_quantity': 4}\n",
      "Type:  <class 'dict'>\n",
      "{'items': ['computer', 'printer', 'keyboard', 'mouse'],\n",
      " 'items_ptice': {'computer': '200€-1000€',\n",
      "                 'keyboard': '5€-50€',\n",
      "                 'mouse': '4€-7€',\n",
      "                 'printer': '100€-300€'},\n",
      " 'items_quantity': 4}\n",
      "Type:  <class 'dict'>\n",
      "True\n"
     ]
    }
   ],
   "source": [
    "main()"
   ]
  },
  {
   "cell_type": "code",
   "execution_count": null,
   "metadata": {},
   "outputs": [],
   "source": []
  }
 ],
 "metadata": {
  "kernelspec": {
   "display_name": "Python 3",
   "language": "python",
   "name": "python3"
  },
  "language_info": {
   "codemirror_mode": {
    "name": "ipython",
    "version": 3
   },
   "file_extension": ".py",
   "mimetype": "text/x-python",
   "name": "python",
   "nbconvert_exporter": "python",
   "pygments_lexer": "ipython3",
   "version": "3.6.6"
  }
 },
 "nbformat": 4,
 "nbformat_minor": 2
}
